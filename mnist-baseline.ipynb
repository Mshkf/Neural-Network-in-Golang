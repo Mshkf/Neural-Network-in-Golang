{
 "cells": [
  {
   "cell_type": "markdown",
   "id": "d3106385",
   "metadata": {
    "papermill": {
     "duration": 0.006191,
     "end_time": "2024-06-11T23:06:01.222718",
     "exception": false,
     "start_time": "2024-06-11T23:06:01.216527",
     "status": "completed"
    },
    "tags": []
   },
   "source": [
    "# MNIST beseline in python\n",
    "Этот пример я буду использовать для реализации такой же нейросети на языке Go, поэтому здесь не будет многих оптимизаций, которые я не смогу реализовать на другом языке, такие как:\n",
    "* Работа с CUDA\n",
    "* Оптимизатор ADAM\n",
    "* Распараллеливание даталоадеров"
   ]
  },
  {
   "cell_type": "code",
   "execution_count": 1,
   "id": "5311978d",
   "metadata": {
    "execution": {
     "iopub.execute_input": "2024-06-11T23:06:01.235876Z",
     "iopub.status.busy": "2024-06-11T23:06:01.235328Z",
     "iopub.status.idle": "2024-06-11T23:06:07.457381Z",
     "shell.execute_reply": "2024-06-11T23:06:07.456150Z"
    },
    "papermill": {
     "duration": 6.231784,
     "end_time": "2024-06-11T23:06:07.460141",
     "exception": false,
     "start_time": "2024-06-11T23:06:01.228357",
     "status": "completed"
    },
    "tags": []
   },
   "outputs": [],
   "source": [
    "import torch\n",
    "from torch import nn\n",
    "from torchvision import transforms\n",
    "from torchvision.datasets import MNIST\n",
    "from torch.utils.data import DataLoader\n",
    "\n",
    "import matplotlib.pyplot as plt\n",
    "from tqdm.notebook import tqdm"
   ]
  },
  {
   "cell_type": "code",
   "execution_count": 2,
   "id": "7c4cd401",
   "metadata": {
    "execution": {
     "iopub.execute_input": "2024-06-11T23:06:07.473392Z",
     "iopub.status.busy": "2024-06-11T23:06:07.472567Z",
     "iopub.status.idle": "2024-06-11T23:06:13.139081Z",
     "shell.execute_reply": "2024-06-11T23:06:13.137925Z"
    },
    "papermill": {
     "duration": 5.677274,
     "end_time": "2024-06-11T23:06:13.142819",
     "exception": false,
     "start_time": "2024-06-11T23:06:07.465545",
     "status": "completed"
    },
    "tags": []
   },
   "outputs": [
    {
     "name": "stdout",
     "output_type": "stream",
     "text": [
      "Downloading http://yann.lecun.com/exdb/mnist/train-images-idx3-ubyte.gz\n",
      "Failed to download (trying next):\n",
      "HTTP Error 403: Forbidden\n",
      "\n",
      "Downloading https://ossci-datasets.s3.amazonaws.com/mnist/train-images-idx3-ubyte.gz\n",
      "Downloading https://ossci-datasets.s3.amazonaws.com/mnist/train-images-idx3-ubyte.gz to data/MNIST/raw/train-images-idx3-ubyte.gz\n"
     ]
    },
    {
     "name": "stderr",
     "output_type": "stream",
     "text": [
      "100%|██████████| 9912422/9912422 [00:00<00:00, 12127255.17it/s]\n"
     ]
    },
    {
     "name": "stdout",
     "output_type": "stream",
     "text": [
      "Extracting data/MNIST/raw/train-images-idx3-ubyte.gz to data/MNIST/raw\n",
      "\n",
      "Downloading http://yann.lecun.com/exdb/mnist/train-labels-idx1-ubyte.gz\n",
      "Failed to download (trying next):\n",
      "HTTP Error 403: Forbidden\n",
      "\n",
      "Downloading https://ossci-datasets.s3.amazonaws.com/mnist/train-labels-idx1-ubyte.gz\n",
      "Downloading https://ossci-datasets.s3.amazonaws.com/mnist/train-labels-idx1-ubyte.gz to data/MNIST/raw/train-labels-idx1-ubyte.gz\n"
     ]
    },
    {
     "name": "stderr",
     "output_type": "stream",
     "text": [
      "100%|██████████| 28881/28881 [00:00<00:00, 358141.68it/s]\n"
     ]
    },
    {
     "name": "stdout",
     "output_type": "stream",
     "text": [
      "Extracting data/MNIST/raw/train-labels-idx1-ubyte.gz to data/MNIST/raw\n",
      "\n",
      "Downloading http://yann.lecun.com/exdb/mnist/t10k-images-idx3-ubyte.gz\n",
      "Failed to download (trying next):\n",
      "HTTP Error 403: Forbidden\n",
      "\n",
      "Downloading https://ossci-datasets.s3.amazonaws.com/mnist/t10k-images-idx3-ubyte.gz\n",
      "Downloading https://ossci-datasets.s3.amazonaws.com/mnist/t10k-images-idx3-ubyte.gz to data/MNIST/raw/t10k-images-idx3-ubyte.gz\n"
     ]
    },
    {
     "name": "stderr",
     "output_type": "stream",
     "text": [
      "100%|██████████| 1648877/1648877 [00:01<00:00, 1455622.88it/s]\n"
     ]
    },
    {
     "name": "stdout",
     "output_type": "stream",
     "text": [
      "Extracting data/MNIST/raw/t10k-images-idx3-ubyte.gz to data/MNIST/raw\n",
      "\n",
      "Downloading http://yann.lecun.com/exdb/mnist/t10k-labels-idx1-ubyte.gz\n",
      "Failed to download (trying next):\n",
      "HTTP Error 403: Forbidden\n",
      "\n",
      "Downloading https://ossci-datasets.s3.amazonaws.com/mnist/t10k-labels-idx1-ubyte.gz\n",
      "Downloading https://ossci-datasets.s3.amazonaws.com/mnist/t10k-labels-idx1-ubyte.gz to data/MNIST/raw/t10k-labels-idx1-ubyte.gz\n"
     ]
    },
    {
     "name": "stderr",
     "output_type": "stream",
     "text": [
      "100%|██████████| 4542/4542 [00:00<00:00, 3043215.46it/s]"
     ]
    },
    {
     "name": "stdout",
     "output_type": "stream",
     "text": [
      "Extracting data/MNIST/raw/t10k-labels-idx1-ubyte.gz to data/MNIST/raw\n",
      "\n"
     ]
    },
    {
     "name": "stderr",
     "output_type": "stream",
     "text": [
      "\n"
     ]
    }
   ],
   "source": [
    "train_ds = MNIST(root='data/',train=True,transform=transforms.ToTensor(),download=True)\n",
    "val_ds = MNIST(root='data/',train=False,transform=transforms.ToTensor(),download=False)"
   ]
  },
  {
   "cell_type": "code",
   "execution_count": 3,
   "id": "d4012832",
   "metadata": {
    "execution": {
     "iopub.execute_input": "2024-06-11T23:06:13.163122Z",
     "iopub.status.busy": "2024-06-11T23:06:13.162636Z",
     "iopub.status.idle": "2024-06-11T23:06:13.169376Z",
     "shell.execute_reply": "2024-06-11T23:06:13.168150Z"
    },
    "papermill": {
     "duration": 0.019798,
     "end_time": "2024-06-11T23:06:13.171780",
     "exception": false,
     "start_time": "2024-06-11T23:06:13.151982",
     "status": "completed"
    },
    "tags": []
   },
   "outputs": [],
   "source": [
    "train_dl = DataLoader(dataset=train_ds, batch_size=64, shuffle=True)\n",
    "val_dl = DataLoader(dataset=val_ds, batch_size=64, shuffle=False)"
   ]
  },
  {
   "cell_type": "markdown",
   "id": "456a7ab2",
   "metadata": {
    "papermill": {
     "duration": 0.008457,
     "end_time": "2024-06-11T23:06:13.189019",
     "exception": false,
     "start_time": "2024-06-11T23:06:13.180562",
     "status": "completed"
    },
    "tags": []
   },
   "source": [
    "## Реализуем архитектуру из видео 3blue1brown"
   ]
  },
  {
   "cell_type": "code",
   "execution_count": 4,
   "id": "5cdb933d",
   "metadata": {
    "execution": {
     "iopub.execute_input": "2024-06-11T23:06:13.208371Z",
     "iopub.status.busy": "2024-06-11T23:06:13.207941Z",
     "iopub.status.idle": "2024-06-11T23:06:13.215807Z",
     "shell.execute_reply": "2024-06-11T23:06:13.214790Z"
    },
    "papermill": {
     "duration": 0.020755,
     "end_time": "2024-06-11T23:06:13.218417",
     "exception": false,
     "start_time": "2024-06-11T23:06:13.197662",
     "status": "completed"
    },
    "tags": []
   },
   "outputs": [],
   "source": [
    "class SimpleNN(nn.Module):\n",
    "    def __init__(self):\n",
    "        super().__init__()\n",
    "        self.flatten = nn.Flatten()\n",
    "        self.propagate = nn.Sequential(\n",
    "            nn.Linear(28*28, 16),\n",
    "            nn.Sigmoid(),\n",
    "            nn.Linear(16, 16),\n",
    "            nn.Sigmoid(),\n",
    "            nn.Linear(16, 10),\n",
    "        )\n",
    "\n",
    "    def forward(self, x):\n",
    "        x = self.flatten(x)\n",
    "        logits = self.propagate(x)\n",
    "        return logits"
   ]
  },
  {
   "cell_type": "code",
   "execution_count": 5,
   "id": "1a01928c",
   "metadata": {
    "execution": {
     "iopub.execute_input": "2024-06-11T23:06:13.237949Z",
     "iopub.status.busy": "2024-06-11T23:06:13.236962Z",
     "iopub.status.idle": "2024-06-11T23:06:13.259122Z",
     "shell.execute_reply": "2024-06-11T23:06:13.258008Z"
    },
    "papermill": {
     "duration": 0.034946,
     "end_time": "2024-06-11T23:06:13.262079",
     "exception": false,
     "start_time": "2024-06-11T23:06:13.227133",
     "status": "completed"
    },
    "tags": []
   },
   "outputs": [],
   "source": [
    "model = SimpleNN()\n",
    "loss = nn.CrossEntropyLoss()\n",
    "optimizer = torch.optim.SGD(model.parameters(), lr=0.05)"
   ]
  },
  {
   "cell_type": "markdown",
   "id": "5db4c34e",
   "metadata": {
    "papermill": {
     "duration": 0.008377,
     "end_time": "2024-06-11T23:06:13.279301",
     "exception": false,
     "start_time": "2024-06-11T23:06:13.270924",
     "status": "completed"
    },
    "tags": []
   },
   "source": [
    "## Обучение"
   ]
  },
  {
   "cell_type": "code",
   "execution_count": 6,
   "id": "52fa6a9a",
   "metadata": {
    "execution": {
     "iopub.execute_input": "2024-06-11T23:06:13.299512Z",
     "iopub.status.busy": "2024-06-11T23:06:13.299119Z",
     "iopub.status.idle": "2024-06-11T23:06:13.310045Z",
     "shell.execute_reply": "2024-06-11T23:06:13.308623Z"
    },
    "papermill": {
     "duration": 0.024267,
     "end_time": "2024-06-11T23:06:13.312761",
     "exception": false,
     "start_time": "2024-06-11T23:06:13.288494",
     "status": "completed"
    },
    "tags": []
   },
   "outputs": [],
   "source": [
    "def train(model, opt, loss_fn, epochs, data_tr, data_val):\n",
    "    history = {\"train_loss\": [], \"val_loss\": []}\n",
    "\n",
    "    for epoch in tqdm(range(epochs)):\n",
    "        avg_train_loss = 0\n",
    "        avg_val_loss = 0\n",
    "        model.train()\n",
    "        for X_batch, Y_batch in data_tr:\n",
    "            opt.zero_grad()\n",
    "            Y_pred = model(X_batch)\n",
    "            loss = loss_fn(Y_pred,Y_batch)\n",
    "            loss.backward()\n",
    "            opt.step()\n",
    "            avg_train_loss += loss / len(data_tr)\n",
    "        \n",
    "        # print(f\"train loss: {avg_train_loss}\")  \n",
    "        history[\"train_loss\"].append(avg_train_loss.detach().cpu().numpy())\n",
    "        \n",
    "        model.eval()\n",
    "        for X_batch, Y_batch in data_val:\n",
    "            with torch.no_grad():\n",
    "                Y_pred = model(X_batch)\n",
    "                loss = loss_fn(Y_pred,Y_batch)\n",
    "                \n",
    "            avg_val_loss += loss / len(data_val)\n",
    "        # print(f\"val loss: {avg_val_loss}\")        \n",
    "        history[\"val_loss\"].append(avg_val_loss.detach().cpu().numpy())\n",
    "    return history"
   ]
  },
  {
   "cell_type": "code",
   "execution_count": 7,
   "id": "0bfc4d5f",
   "metadata": {
    "execution": {
     "iopub.execute_input": "2024-06-11T23:06:13.332214Z",
     "iopub.status.busy": "2024-06-11T23:06:13.331834Z",
     "iopub.status.idle": "2024-06-11T23:10:11.232369Z",
     "shell.execute_reply": "2024-06-11T23:10:11.230815Z"
    },
    "papermill": {
     "duration": 237.913958,
     "end_time": "2024-06-11T23:10:11.235392",
     "exception": false,
     "start_time": "2024-06-11T23:06:13.321434",
     "status": "completed"
    },
    "tags": []
   },
   "outputs": [
    {
     "data": {
      "application/vnd.jupyter.widget-view+json": {
       "model_id": "616210347ca84f7199500381bf0b103e",
       "version_major": 2,
       "version_minor": 0
      },
      "text/plain": [
       "  0%|          | 0/25 [00:00<?, ?it/s]"
      ]
     },
     "metadata": {},
     "output_type": "display_data"
    }
   ],
   "source": [
    "max_epochs = 25\n",
    "history = train(model, optimizer, loss, max_epochs, train_dl, val_dl)"
   ]
  },
  {
   "cell_type": "code",
   "execution_count": 8,
   "id": "ae441988",
   "metadata": {
    "execution": {
     "iopub.execute_input": "2024-06-11T23:10:11.255144Z",
     "iopub.status.busy": "2024-06-11T23:10:11.254680Z",
     "iopub.status.idle": "2024-06-11T23:10:11.262008Z",
     "shell.execute_reply": "2024-06-11T23:10:11.260728Z"
    },
    "papermill": {
     "duration": 0.020181,
     "end_time": "2024-06-11T23:10:11.264533",
     "exception": false,
     "start_time": "2024-06-11T23:10:11.244352",
     "status": "completed"
    },
    "tags": []
   },
   "outputs": [],
   "source": [
    "def draw_history(history):\n",
    "    plt.figure(figsize=(10, 5))\n",
    "    plt.plot(history[\"train_loss\"],label=\"train_loss\")\n",
    "    plt.plot(history[\"val_loss\"], label=\"val_loss\")\n",
    "    plt.legend(loc='best')\n",
    "    plt.xlabel(\"epochs\")\n",
    "    plt.ylabel(\"loss\")\n",
    "    plt.show()"
   ]
  },
  {
   "cell_type": "code",
   "execution_count": 9,
   "id": "0bf8432d",
   "metadata": {
    "execution": {
     "iopub.execute_input": "2024-06-11T23:10:11.284093Z",
     "iopub.status.busy": "2024-06-11T23:10:11.283635Z",
     "iopub.status.idle": "2024-06-11T23:10:11.600682Z",
     "shell.execute_reply": "2024-06-11T23:10:11.599502Z"
    },
    "papermill": {
     "duration": 0.329791,
     "end_time": "2024-06-11T23:10:11.603222",
     "exception": false,
     "start_time": "2024-06-11T23:10:11.273431",
     "status": "completed"
    },
    "tags": []
   },
   "outputs": [
    {
     "data": {
      "image/png": "[encoded data removed]",
      "text/plain": [
       "<Figure size 1000x500 with 1 Axes>"
      ]
     },
     "metadata": {},
     "output_type": "display_data"
    }
   ],
   "source": [
    "draw_history(history)"
   ]
  },
  {
   "cell_type": "code",
   "execution_count": 10,
   "id": "cb53fc92",
   "metadata": {
    "execution": {
     "iopub.execute_input": "2024-06-11T23:10:11.625522Z",
     "iopub.status.busy": "2024-06-11T23:10:11.625103Z",
     "iopub.status.idle": "2024-06-11T23:10:11.632534Z",
     "shell.execute_reply": "2024-06-11T23:10:11.631452Z"
    },
    "papermill": {
     "duration": 0.021079,
     "end_time": "2024-06-11T23:10:11.635129",
     "exception": false,
     "start_time": "2024-06-11T23:10:11.614050",
     "status": "completed"
    },
    "tags": []
   },
   "outputs": [],
   "source": [
    "def validate(model, data_val):\n",
    "    model.eval()\n",
    "    correct = 0\n",
    "    total = 0\n",
    "    with torch.no_grad():\n",
    "        for input, target in data_val:\n",
    "            output = model(input)\n",
    "            _, predicted = torch.max(output, dim=1)\n",
    "            total += target.size(0)\n",
    "            correct += (predicted == target).sum().item()\n",
    "    print(f'Accuracy: {100 * correct / total}%')"
   ]
  },
  {
   "cell_type": "code",
   "execution_count": 11,
   "id": "e80893da",
   "metadata": {
    "execution": {
     "iopub.execute_input": "2024-06-11T23:10:11.656784Z",
     "iopub.status.busy": "2024-06-11T23:10:11.656367Z",
     "iopub.status.idle": "2024-06-11T23:10:12.910381Z",
     "shell.execute_reply": "2024-06-11T23:10:12.909027Z"
    },
    "papermill": {
     "duration": 1.270051,
     "end_time": "2024-06-11T23:10:12.915103",
     "exception": false,
     "start_time": "2024-06-11T23:10:11.645052",
     "status": "completed"
    },
    "tags": []
   },
   "outputs": [
    {
     "name": "stdout",
     "output_type": "stream",
     "text": [
      "Accuracy: 93.77%\n"
     ]
    }
   ],
   "source": [
    "validate(model, val_dl)"
   ]
  }
 ],
 "metadata": {
  "kaggle": {
   "accelerator": "none",
   "dataSources": [],
   "dockerImageVersionId": 30732,
   "isGpuEnabled": false,
   "isInternetEnabled": true,
   "language": "python",
   "sourceType": "notebook"
  },
  "kernelspec": {
   "display_name": "Python 3",
   "language": "python",
   "name": "python3"
  },
  "language_info": {
   "codemirror_mode": {
    "name": "ipython",
    "version": 3
   },
   "file_extension": ".py",
   "mimetype": "text/x-python",
   "name": "python",
   "nbconvert_exporter": "python",
   "pygments_lexer": "ipython3",
   "version": "3.10.13"
  },
  "papermill": {
   "default_parameters": {},
   "duration": 256.105314,
   "end_time": "2024-06-11T23:10:14.050402",
   "environment_variables": {},
   "exception": null,
   "input_path": "__notebook__.ipynb",
   "output_path": "__notebook__.ipynb",
   "parameters": {},
   "start_time": "2024-06-11T23:05:57.945088",
   "version": "2.5.0"
  },
  "widgets": {
   "application/vnd.jupyter.widget-state+json": {
    "state": {
     "1ef44d9cc1d94e868b7c6d613ddcb248": {
      "model_module": "@jupyter-widgets/controls",
      "model_module_version": "1.5.0",
      "model_name": "DescriptionStyleModel",
      "state": {
       "_model_module": "@jupyter-widgets/controls",
       "_model_module_version": "1.5.0",
       "_model_name": "DescriptionStyleModel",
       "_view_count": null,
       "_view_module": "@jupyter-widgets/base",
       "_view_module_version": "1.2.0",
       "_view_name": "StyleView",
       "description_width": ""
      }
     },
     "2082841fbd664832a4e4c580da4fd491": {
      "model_module": "@jupyter-widgets/base",
      "model_module_version": "1.2.0",
      "model_name": "LayoutModel",
      "state": {
       "_model_module": "@jupyter-widgets/base",
       "_model_module_version": "1.2.0",
       "_model_name": "LayoutModel",
       "_view_count": null,
       "_view_module": "@jupyter-widgets/base",
       "_view_module_version": "1.2.0",
       "_view_name": "LayoutView",
       "align_content": null,
       "align_items": null,
       "align_self": null,
       "border": null,
       "bottom": null,
       "display": null,
       "flex": null,
       "flex_flow": null,
       "grid_area": null,
       "grid_auto_columns": null,
       "grid_auto_flow": null,
       "grid_auto_rows": null,
       "grid_column": null,
       "grid_gap": null,
       "grid_row": null,
       "grid_template_areas": null,
       "grid_template_columns": null,
       "grid_template_rows": null,
       "height": null,
       "justify_content": null,
       "justify_items": null,
       "left": null,
       "margin": null,
       "max_height": null,
       "max_width": null,
       "min_height": null,
       "min_width": null,
       "object_fit": null,
       "object_position": null,
       "order": null,
       "overflow": null,
       "overflow_x": null,
       "overflow_y": null,
       "padding": null,
       "right": null,
       "top": null,
       "visibility": null,
       "width": null
      }
     },
     "3bcbfa61b7ca414b8ab283e3718d7a8c": {
      "model_module": "@jupyter-widgets/controls",
      "model_module_version": "1.5.0",
      "model_name": "DescriptionStyleModel",
      "state": {
       "_model_module": "@jupyter-widgets/controls",
       "_model_module_version": "1.5.0",
       "_model_name": "DescriptionStyleModel",
       "_view_count": null,
       "_view_module": "@jupyter-widgets/base",
       "_view_module_version": "1.2.0",
       "_view_name": "StyleView",
       "description_width": ""
      }
     },
     "472daea2c0c94a30bf5f7943ec793be3": {
      "model_module": "@jupyter-widgets/base",
      "model_module_version": "1.2.0",
      "model_name": "LayoutModel",
      "state": {
       "_model_module": "@jupyter-widgets/base",
       "_model_module_version": "1.2.0",
       "_model_name": "LayoutModel",
       "_view_count": null,
       "_view_module": "@jupyter-widgets/base",
       "_view_module_version": "1.2.0",
       "_view_name": "LayoutView",
       "align_content": null,
       "align_items": null,
       "align_self": null,
       "border": null,
       "bottom": null,
       "display": null,
       "flex": null,
       "flex_flow": null,
       "grid_area": null,
       "grid_auto_columns": null,
       "grid_auto_flow": null,
       "grid_auto_rows": null,
       "grid_column": null,
       "grid_gap": null,
       "grid_row": null,
       "grid_template_areas": null,
       "grid_template_columns": null,
       "grid_template_rows": null,
       "height": null,
       "justify_content": null,
       "justify_items": null,
       "left": null,
       "margin": null,
       "max_height": null,
       "max_width": null,
       "min_height": null,
       "min_width": null,
       "object_fit": null,
       "object_position": null,
       "order": null,
       "overflow": null,
       "overflow_x": null,
       "overflow_y": null,
       "padding": null,
       "right": null,
       "top": null,
       "visibility": null,
       "width": null
      }
     },
     "616210347ca84f7199500381bf0b103e": {
      "model_module": "@jupyter-widgets/controls",
      "model_module_version": "1.5.0",
      "model_name": "HBoxModel",
      "state": {
       "_dom_classes": [],
       "_model_module": "@jupyter-widgets/controls",
       "_model_module_version": "1.5.0",
       "_model_name": "HBoxModel",
       "_view_count": null,
       "_view_module": "@jupyter-widgets/controls",
       "_view_module_version": "1.5.0",
       "_view_name": "HBoxView",
       "box_style": "",
       "children": [
        "IPY_MODEL_b06fd7323622436c97fe31bc295c4d6d",
        "IPY_MODEL_8e705ca8a75443c29ba2fcfc8a451fc0",
        "IPY_MODEL_6f92935b48d3419faf858267d17a8cf0"
       ],
       "layout": "IPY_MODEL_e96cc3e909e74f07a577d8a51f7c60b0"
      }
     },
     "6f92935b48d3419faf858267d17a8cf0": {
      "model_module": "@jupyter-widgets/controls",
      "model_module_version": "1.5.0",
      "model_name": "HTMLModel",
      "state": {
       "_dom_classes": [],
       "_model_module": "@jupyter-widgets/controls",
       "_model_module_version": "1.5.0",
       "_model_name": "HTMLModel",
       "_view_count": null,
       "_view_module": "@jupyter-widgets/controls",
       "_view_module_version": "1.5.0",
       "_view_name": "HTMLView",
       "description": "",
       "description_tooltip": null,
       "layout": "IPY_MODEL_2082841fbd664832a4e4c580da4fd491",
       "placeholder": "​",
       "style": "IPY_MODEL_1ef44d9cc1d94e868b7c6d613ddcb248",
       "value": " 25/25 [03:57&lt;00:00,  9.49s/it]"
      }
     },
     "8c35d7d8d8f94bc780a591a5e496567d": {
      "model_module": "@jupyter-widgets/base",
      "model_module_version": "1.2.0",
      "model_name": "LayoutModel",
      "state": {
       "_model_module": "@jupyter-widgets/base",
       "_model_module_version": "1.2.0",
       "_model_name": "LayoutModel",
       "_view_count": null,
       "_view_module": "@jupyter-widgets/base",
       "_view_module_version": "1.2.0",
       "_view_name": "LayoutView",
       "align_content": null,
       "align_items": null,
       "align_self": null,
       "border": null,
       "bottom": null,
       "display": null,
       "flex": null,
       "flex_flow": null,
       "grid_area": null,
       "grid_auto_columns": null,
       "grid_auto_flow": null,
       "grid_auto_rows": null,
       "grid_column": null,
       "grid_gap": null,
       "grid_row": null,
       "grid_template_areas": null,
       "grid_template_columns": null,
       "grid_template_rows": null,
       "height": null,
       "justify_content": null,
       "justify_items": null,
       "left": null,
       "margin": null,
       "max_height": null,
       "max_width": null,
       "min_height": null,
       "min_width": null,
       "object_fit": null,
       "object_position": null,
       "order": null,
       "overflow": null,
       "overflow_x": null,
       "overflow_y": null,
       "padding": null,
       "right": null,
       "top": null,
       "visibility": null,
       "width": null
      }
     },
     "8e705ca8a75443c29ba2fcfc8a451fc0": {
      "model_module": "@jupyter-widgets/controls",
      "model_module_version": "1.5.0",
      "model_name": "FloatProgressModel",
      "state": {
       "_dom_classes": [],
       "_model_module": "@jupyter-widgets/controls",
       "_model_module_version": "1.5.0",
       "_model_name": "FloatProgressModel",
       "_view_count": null,
       "_view_module": "@jupyter-widgets/controls",
       "_view_module_version": "1.5.0",
       "_view_name": "ProgressView",
       "bar_style": "success",
       "description": "",
       "description_tooltip": null,
       "layout": "IPY_MODEL_8c35d7d8d8f94bc780a591a5e496567d",
       "max": 25.0,
       "min": 0.0,
       "orientation": "horizontal",
       "style": "IPY_MODEL_ec0c1d1191d94b9bbbf78af1091ad9c4",
       "value": 25.0
      }
     },
     "b06fd7323622436c97fe31bc295c4d6d": {
      "model_module": "@jupyter-widgets/controls",
      "model_module_version": "1.5.0",
      "model_name": "HTMLModel",
      "state": {
       "_dom_classes": [],
       "_model_module": "@jupyter-widgets/controls",
       "_model_module_version": "1.5.0",
       "_model_name": "HTMLModel",
       "_view_count": null,
       "_view_module": "@jupyter-widgets/controls",
       "_view_module_version": "1.5.0",
       "_view_name": "HTMLView",
       "description": "",
       "description_tooltip": null,
       "layout": "IPY_MODEL_472daea2c0c94a30bf5f7943ec793be3",
       "placeholder": "​",
       "style": "IPY_MODEL_3bcbfa61b7ca414b8ab283e3718d7a8c",
       "value": "100%"
      }
     },
     "e96cc3e909e74f07a577d8a51f7c60b0": {
      "model_module": "@jupyter-widgets/base",
      "model_module_version": "1.2.0",
      "model_name": "LayoutModel",
      "state": {
       "_model_module": "@jupyter-widgets/base",
       "_model_module_version": "1.2.0",
       "_model_name": "LayoutModel",
       "_view_count": null,
       "_view_module": "@jupyter-widgets/base",
       "_view_module_version": "1.2.0",
       "_view_name": "LayoutView",
       "align_content": null,
       "align_items": null,
       "align_self": null,
       "border": null,
       "bottom": null,
       "display": null,
       "flex": null,
       "flex_flow": null,
       "grid_area": null,
       "grid_auto_columns": null,
       "grid_auto_flow": null,
       "grid_auto_rows": null,
       "grid_column": null,
       "grid_gap": null,
       "grid_row": null,
       "grid_template_areas": null,
       "grid_template_columns": null,
       "grid_template_rows": null,
       "height": null,
       "justify_content": null,
       "justify_items": null,
       "left": null,
       "margin": null,
       "max_height": null,
       "max_width": null,
       "min_height": null,
       "min_width": null,
       "object_fit": null,
       "object_position": null,
       "order": null,
       "overflow": null,
       "overflow_x": null,
       "overflow_y": null,
       "padding": null,
       "right": null,
       "top": null,
       "visibility": null,
       "width": null
      }
     },
     "ec0c1d1191d94b9bbbf78af1091ad9c4": {
      "model_module": "@jupyter-widgets/controls",
      "model_module_version": "1.5.0",
      "model_name": "ProgressStyleModel",
      "state": {
       "_model_module": "@jupyter-widgets/controls",
       "_model_module_version": "1.5.0",
       "_model_name": "ProgressStyleModel",
       "_view_count": null,
       "_view_module": "@jupyter-widgets/base",
       "_view_module_version": "1.2.0",
       "_view_name": "StyleView",
       "bar_color": null,
       "description_width": ""
      }
     }
    },
    "version_major": 2,
    "version_minor": 0
   }
  }
 },
 "nbformat": 4,
 "nbformat_minor": 5
}
