{
 "cells": [
  {
   "cell_type": "markdown",
   "id": "ec525703",
   "metadata": {
    "papermill": {
     "duration": 0.005366,
     "end_time": "2024-07-01T18:36:43.217188",
     "exception": false,
     "start_time": "2024-07-01T18:36:43.211822",
     "status": "completed"
    },
    "tags": []
   },
   "source": [
    "# MNIST beseline in python\n",
    "Этот пример я буду использовать для реализации такой же нейросети на языке Go, поэтому здесь не будет многих оптимизаций, которые я не смогу реализовать на другом языке, такие как:\n",
    "* Работа с GPU\n",
    "* Оптимизатор ADAM\n",
    "* Распараллеливание даталоадеров\n",
    "\n",
    "Также я буду использовать архитектуру из видео с канала 3blue1brown для воспроизводимости. Отличия от современных архитектур:\n",
    "* Сигмоида в качестве активации\n",
    "* MSE в качестве лосса\n",
    "\n",
    "Всё это делает написание кода и вычисление производной немного проще, что и дает возможность реализовать это самому без сторонних библиотек"
   ]
  },
  {
   "cell_type": "code",
   "execution_count": 1,
   "id": "826ab45d",
   "metadata": {
    "execution": {
     "iopub.execute_input": "2024-07-01T18:36:43.229009Z",
     "iopub.status.busy": "2024-07-01T18:36:43.228601Z",
     "iopub.status.idle": "2024-07-01T18:36:49.233858Z",
     "shell.execute_reply": "2024-07-01T18:36:49.232677Z"
    },
    "papermill": {
     "duration": 6.01488,
     "end_time": "2024-07-01T18:36:49.237221",
     "exception": false,
     "start_time": "2024-07-01T18:36:43.222341",
     "status": "completed"
    },
    "tags": []
   },
   "outputs": [],
   "source": [
    "import torch\n",
    "from torch import nn\n",
    "from torchvision import transforms\n",
    "from torchvision.datasets import MNIST\n",
    "from torch.utils.data import DataLoader\n",
    "\n",
    "import matplotlib.pyplot as plt\n",
    "from tqdm.notebook import tqdm"
   ]
  },
  {
   "cell_type": "code",
   "execution_count": 2,
   "id": "841a4f1d",
   "metadata": {
    "execution": {
     "iopub.execute_input": "2024-07-01T18:36:49.249737Z",
     "iopub.status.busy": "2024-07-01T18:36:49.248462Z",
     "iopub.status.idle": "2024-07-01T18:36:51.601787Z",
     "shell.execute_reply": "2024-07-01T18:36:51.600216Z"
    },
    "papermill": {
     "duration": 2.362335,
     "end_time": "2024-07-01T18:36:51.604629",
     "exception": false,
     "start_time": "2024-07-01T18:36:49.242294",
     "status": "completed"
    },
    "tags": []
   },
   "outputs": [
    {
     "name": "stdout",
     "output_type": "stream",
     "text": [
      "Downloading http://yann.lecun.com/exdb/mnist/train-images-idx3-ubyte.gz\n",
      "Failed to download (trying next):\n",
      "HTTP Error 403: Forbidden\n",
      "\n",
      "Downloading https://ossci-datasets.s3.amazonaws.com/mnist/train-images-idx3-ubyte.gz\n",
      "Downloading https://ossci-datasets.s3.amazonaws.com/mnist/train-images-idx3-ubyte.gz to data/MNIST/raw/train-images-idx3-ubyte.gz\n"
     ]
    },
    {
     "name": "stderr",
     "output_type": "stream",
     "text": [
      "100%|██████████| 9912422/9912422 [00:00<00:00, 36273694.19it/s]\n"
     ]
    },
    {
     "name": "stdout",
     "output_type": "stream",
     "text": [
      "Extracting data/MNIST/raw/train-images-idx3-ubyte.gz to data/MNIST/raw\n",
      "\n",
      "Downloading http://yann.lecun.com/exdb/mnist/train-labels-idx1-ubyte.gz\n",
      "Failed to download (trying next):\n",
      "HTTP Error 403: Forbidden\n",
      "\n",
      "Downloading https://ossci-datasets.s3.amazonaws.com/mnist/train-labels-idx1-ubyte.gz\n",
      "Downloading https://ossci-datasets.s3.amazonaws.com/mnist/train-labels-idx1-ubyte.gz to data/MNIST/raw/train-labels-idx1-ubyte.gz\n"
     ]
    },
    {
     "name": "stderr",
     "output_type": "stream",
     "text": [
      "100%|██████████| 28881/28881 [00:00<00:00, 1054050.45it/s]\n"
     ]
    },
    {
     "name": "stdout",
     "output_type": "stream",
     "text": [
      "Extracting data/MNIST/raw/train-labels-idx1-ubyte.gz to data/MNIST/raw\n",
      "\n",
      "Downloading http://yann.lecun.com/exdb/mnist/t10k-images-idx3-ubyte.gz\n",
      "Failed to download (trying next):\n",
      "HTTP Error 403: Forbidden\n",
      "\n",
      "Downloading https://ossci-datasets.s3.amazonaws.com/mnist/t10k-images-idx3-ubyte.gz\n",
      "Downloading https://ossci-datasets.s3.amazonaws.com/mnist/t10k-images-idx3-ubyte.gz to data/MNIST/raw/t10k-images-idx3-ubyte.gz\n"
     ]
    },
    {
     "name": "stderr",
     "output_type": "stream",
     "text": [
      "100%|██████████| 1648877/1648877 [00:00<00:00, 10081459.64it/s]\n"
     ]
    },
    {
     "name": "stdout",
     "output_type": "stream",
     "text": [
      "Extracting data/MNIST/raw/t10k-images-idx3-ubyte.gz to data/MNIST/raw\n",
      "\n",
      "Downloading http://yann.lecun.com/exdb/mnist/t10k-labels-idx1-ubyte.gz\n",
      "Failed to download (trying next):\n",
      "HTTP Error 403: Forbidden\n",
      "\n",
      "Downloading https://ossci-datasets.s3.amazonaws.com/mnist/t10k-labels-idx1-ubyte.gz\n",
      "Downloading https://ossci-datasets.s3.amazonaws.com/mnist/t10k-labels-idx1-ubyte.gz to data/MNIST/raw/t10k-labels-idx1-ubyte.gz\n"
     ]
    },
    {
     "name": "stderr",
     "output_type": "stream",
     "text": [
      "100%|██████████| 4542/4542 [00:00<00:00, 2335482.26it/s]"
     ]
    },
    {
     "name": "stdout",
     "output_type": "stream",
     "text": [
      "Extracting data/MNIST/raw/t10k-labels-idx1-ubyte.gz to data/MNIST/raw\n",
      "\n"
     ]
    },
    {
     "name": "stderr",
     "output_type": "stream",
     "text": [
      "\n"
     ]
    }
   ],
   "source": [
    "train_ds = MNIST(root='data/',train=True,transform=transforms.ToTensor(),download=True)\n",
    "val_ds = MNIST(root='data/',train=False,transform=transforms.ToTensor(),download=False)"
   ]
  },
  {
   "cell_type": "code",
   "execution_count": 3,
   "id": "28c84e99",
   "metadata": {
    "execution": {
     "iopub.execute_input": "2024-07-01T18:36:51.620941Z",
     "iopub.status.busy": "2024-07-01T18:36:51.620503Z",
     "iopub.status.idle": "2024-07-01T18:36:51.626901Z",
     "shell.execute_reply": "2024-07-01T18:36:51.625694Z"
    },
    "papermill": {
     "duration": 0.017555,
     "end_time": "2024-07-01T18:36:51.629445",
     "exception": false,
     "start_time": "2024-07-01T18:36:51.611890",
     "status": "completed"
    },
    "tags": []
   },
   "outputs": [],
   "source": [
    "train_dl = DataLoader(dataset=train_ds, batch_size=64, shuffle=True)\n",
    "val_dl = DataLoader(dataset=val_ds, batch_size=64, shuffle=False)"
   ]
  },
  {
   "cell_type": "markdown",
   "id": "160f3b8b",
   "metadata": {
    "papermill": {
     "duration": 0.006804,
     "end_time": "2024-07-01T18:36:51.643919",
     "exception": false,
     "start_time": "2024-07-01T18:36:51.637115",
     "status": "completed"
    },
    "tags": []
   },
   "source": [
    "## Реализуем архитектуру из видео 3blue1brown"
   ]
  },
  {
   "cell_type": "code",
   "execution_count": 4,
   "id": "c64504bc",
   "metadata": {
    "execution": {
     "iopub.execute_input": "2024-07-01T18:36:51.660529Z",
     "iopub.status.busy": "2024-07-01T18:36:51.659633Z",
     "iopub.status.idle": "2024-07-01T18:36:51.667816Z",
     "shell.execute_reply": "2024-07-01T18:36:51.666570Z"
    },
    "papermill": {
     "duration": 0.019196,
     "end_time": "2024-07-01T18:36:51.670417",
     "exception": false,
     "start_time": "2024-07-01T18:36:51.651221",
     "status": "completed"
    },
    "tags": []
   },
   "outputs": [],
   "source": [
    "class SimpleNN(nn.Module):\n",
    "    def __init__(self):\n",
    "        super().__init__()\n",
    "        self.flatten = nn.Flatten()\n",
    "        self.propagate = nn.Sequential(\n",
    "            nn.Linear(28*28, 16),\n",
    "            nn.Sigmoid(),\n",
    "            nn.Linear(16, 16),\n",
    "            nn.Sigmoid(),\n",
    "            nn.Linear(16, 10),\n",
    "            nn.Sigmoid()\n",
    "        )\n",
    "\n",
    "    def forward(self, x):\n",
    "        x = self.flatten(x)\n",
    "        logits = self.propagate(x)\n",
    "        return logits"
   ]
  },
  {
   "cell_type": "code",
   "execution_count": 5,
   "id": "30e306ef",
   "metadata": {
    "execution": {
     "iopub.execute_input": "2024-07-01T18:36:51.686935Z",
     "iopub.status.busy": "2024-07-01T18:36:51.686204Z",
     "iopub.status.idle": "2024-07-01T18:36:51.692390Z",
     "shell.execute_reply": "2024-07-01T18:36:51.691194Z"
    },
    "papermill": {
     "duration": 0.017335,
     "end_time": "2024-07-01T18:36:51.694991",
     "exception": false,
     "start_time": "2024-07-01T18:36:51.677656",
     "status": "completed"
    },
    "tags": []
   },
   "outputs": [],
   "source": [
    "MSE = nn.MSELoss()\n",
    "def loss(inp,target):\n",
    "    # return ((inp - nn.functional.one_hot(target,10))**2).mean()\n",
    "    target = nn.functional.one_hot(target,10).float()\n",
    "    return MSE(inp,target)"
   ]
  },
  {
   "cell_type": "code",
   "execution_count": 6,
   "id": "6f810ace",
   "metadata": {
    "execution": {
     "iopub.execute_input": "2024-07-01T18:36:51.711748Z",
     "iopub.status.busy": "2024-07-01T18:36:51.711326Z",
     "iopub.status.idle": "2024-07-01T18:36:51.732444Z",
     "shell.execute_reply": "2024-07-01T18:36:51.731240Z"
    },
    "papermill": {
     "duration": 0.03341,
     "end_time": "2024-07-01T18:36:51.735752",
     "exception": false,
     "start_time": "2024-07-01T18:36:51.702342",
     "status": "completed"
    },
    "tags": []
   },
   "outputs": [],
   "source": [
    "model = SimpleNN()\n",
    "optimizer = torch.optim.SGD(model.parameters(), lr=5.0)"
   ]
  },
  {
   "cell_type": "markdown",
   "id": "64c71e0d",
   "metadata": {
    "papermill": {
     "duration": 0.007113,
     "end_time": "2024-07-01T18:36:51.750467",
     "exception": false,
     "start_time": "2024-07-01T18:36:51.743354",
     "status": "completed"
    },
    "tags": []
   },
   "source": [
    "## Обучение"
   ]
  },
  {
   "cell_type": "code",
   "execution_count": 7,
   "id": "a2ac9120",
   "metadata": {
    "execution": {
     "iopub.execute_input": "2024-07-01T18:36:51.767828Z",
     "iopub.status.busy": "2024-07-01T18:36:51.767445Z",
     "iopub.status.idle": "2024-07-01T18:36:51.780708Z",
     "shell.execute_reply": "2024-07-01T18:36:51.779618Z"
    },
    "papermill": {
     "duration": 0.024872,
     "end_time": "2024-07-01T18:36:51.783431",
     "exception": false,
     "start_time": "2024-07-01T18:36:51.758559",
     "status": "completed"
    },
    "tags": []
   },
   "outputs": [],
   "source": [
    "def train(model, opt, loss_fn, epochs, data_tr, data_val):\n",
    "    history = {\"train_loss\": [], \"val_loss\": []}\n",
    "\n",
    "    for epoch in tqdm(range(epochs)):\n",
    "        avg_train_loss = 0\n",
    "        avg_val_loss = 0\n",
    "        model.train()\n",
    "        for X_batch, Y_batch in data_tr:\n",
    "            X_batch, Y_batch = X_batch,Y_batch\n",
    "            opt.zero_grad()\n",
    "            Y_pred = model(X_batch)\n",
    "            loss = loss_fn(Y_pred,Y_batch)\n",
    "            loss.backward()\n",
    "            opt.step()\n",
    "            avg_train_loss += loss / len(data_tr)\n",
    "        \n",
    "        # print(f\"train loss: {avg_train_loss}\")  \n",
    "        history[\"train_loss\"].append(avg_train_loss.detach().cpu().numpy())\n",
    "        \n",
    "        model.eval()\n",
    "        correct = 0\n",
    "        total = 0\n",
    "        for X_batch, Y_batch in data_val:\n",
    "            X_batch, Y_batch = X_batch,Y_batch\n",
    "            with torch.no_grad():\n",
    "                Y_pred = model(X_batch)\n",
    "                loss = loss_fn(Y_pred,Y_batch)\n",
    "                _, predicted = torch.max(Y_pred, dim=1)\n",
    "                total += Y_batch.size(0)\n",
    "                correct += (predicted == Y_batch).sum().item()\n",
    "                \n",
    "            avg_val_loss += loss / len(data_val)\n",
    "        print(f'Accuracy: {100 * correct / total}%')\n",
    "        # print(f\"val loss: {avg_val_loss}\")        \n",
    "        history[\"val_loss\"].append(avg_val_loss.detach().cpu().numpy())\n",
    "    return history"
   ]
  },
  {
   "cell_type": "code",
   "execution_count": 8,
   "id": "f5f33db4",
   "metadata": {
    "execution": {
     "iopub.execute_input": "2024-07-01T18:36:51.800320Z",
     "iopub.status.busy": "2024-07-01T18:36:51.799851Z",
     "iopub.status.idle": "2024-07-01T18:40:57.483622Z",
     "shell.execute_reply": "2024-07-01T18:40:57.481651Z"
    },
    "papermill": {
     "duration": 245.695798,
     "end_time": "2024-07-01T18:40:57.486740",
     "exception": false,
     "start_time": "2024-07-01T18:36:51.790942",
     "status": "completed"
    },
    "tags": []
   },
   "outputs": [
    {
     "data": {
      "application/vnd.jupyter.widget-view+json": {
       "model_id": "07af8dd4dfbb4e87903432b9df90c7ad",
       "version_major": 2,
       "version_minor": 0
      },
      "text/plain": [
       "  0%|          | 0/25 [00:00<?, ?it/s]"
      ]
     },
     "metadata": {},
     "output_type": "display_data"
    },
    {
     "name": "stdout",
     "output_type": "stream",
     "text": [
      "Accuracy: 30.11%\n",
      "Accuracy: 76.67%\n",
      "Accuracy: 88.95%\n",
      "Accuracy: 90.67%\n",
      "Accuracy: 91.59%\n",
      "Accuracy: 92.2%\n",
      "Accuracy: 92.69%\n",
      "Accuracy: 92.88%\n",
      "Accuracy: 93.15%\n",
      "Accuracy: 93.35%\n",
      "Accuracy: 93.38%\n",
      "Accuracy: 93.82%\n",
      "Accuracy: 93.89%\n",
      "Accuracy: 93.93%\n",
      "Accuracy: 94.0%\n",
      "Accuracy: 94.16%\n",
      "Accuracy: 94.37%\n",
      "Accuracy: 94.11%\n",
      "Accuracy: 94.17%\n",
      "Accuracy: 94.5%\n",
      "Accuracy: 94.47%\n",
      "Accuracy: 94.57%\n",
      "Accuracy: 94.58%\n",
      "Accuracy: 94.65%\n",
      "Accuracy: 94.65%\n"
     ]
    }
   ],
   "source": [
    "max_epochs = 25\n",
    "history = train(model, optimizer, loss, max_epochs, train_dl, val_dl)"
   ]
  },
  {
   "cell_type": "code",
   "execution_count": 9,
   "id": "dee2fa69",
   "metadata": {
    "execution": {
     "iopub.execute_input": "2024-07-01T18:40:57.509608Z",
     "iopub.status.busy": "2024-07-01T18:40:57.509180Z",
     "iopub.status.idle": "2024-07-01T18:40:57.516318Z",
     "shell.execute_reply": "2024-07-01T18:40:57.515071Z"
    },
    "papermill": {
     "duration": 0.022099,
     "end_time": "2024-07-01T18:40:57.518890",
     "exception": false,
     "start_time": "2024-07-01T18:40:57.496791",
     "status": "completed"
    },
    "tags": []
   },
   "outputs": [],
   "source": [
    "def draw_history(history):\n",
    "    plt.figure(figsize=(10, 5))\n",
    "    plt.plot(history[\"train_loss\"],label=\"train_loss\")\n",
    "    plt.plot(history[\"val_loss\"], label=\"val_loss\")\n",
    "    plt.legend(loc='best')\n",
    "    plt.xlabel(\"epochs\")\n",
    "    plt.ylabel(\"loss\")\n",
    "    plt.show()"
   ]
  },
  {
   "cell_type": "code",
   "execution_count": 10,
   "id": "c41680d1",
   "metadata": {
    "execution": {
     "iopub.execute_input": "2024-07-01T18:40:57.541595Z",
     "iopub.status.busy": "2024-07-01T18:40:57.541188Z",
     "iopub.status.idle": "2024-07-01T18:40:57.890345Z",
     "shell.execute_reply": "2024-07-01T18:40:57.889215Z"
    },
    "papermill": {
     "duration": 0.36391,
     "end_time": "2024-07-01T18:40:57.893111",
     "exception": false,
     "start_time": "2024-07-01T18:40:57.529201",
     "status": "completed"
    },
    "tags": []
   },
   "outputs": [
    {
     "data": {
      "image/png": "[encoded data removed]",
      "text/plain": [
       "<Figure size 1000x500 with 1 Axes>"
      ]
     },
     "metadata": {},
     "output_type": "display_data"
    }
   ],
   "source": [
    "draw_history(history)"
   ]
  },
  {
   "cell_type": "code",
   "execution_count": 11,
   "id": "063c9376",
   "metadata": {
    "execution": {
     "iopub.execute_input": "2024-07-01T18:40:57.916651Z",
     "iopub.status.busy": "2024-07-01T18:40:57.916192Z",
     "iopub.status.idle": "2024-07-01T18:40:57.924908Z",
     "shell.execute_reply": "2024-07-01T18:40:57.923015Z"
    },
    "papermill": {
     "duration": 0.023843,
     "end_time": "2024-07-01T18:40:57.927761",
     "exception": false,
     "start_time": "2024-07-01T18:40:57.903918",
     "status": "completed"
    },
    "tags": []
   },
   "outputs": [],
   "source": [
    "def validate(model, data_val):\n",
    "    model.eval()\n",
    "    correct = 0\n",
    "    total = 0\n",
    "    with torch.no_grad():\n",
    "        for inp, target in data_val:\n",
    "            output = model(inp)\n",
    "            _, predicted = torch.max(output, dim=1)\n",
    "            total += target.size(0)\n",
    "            correct += (predicted == target).sum().item()\n",
    "    print(f'Accuracy: {100 * correct / total}%')"
   ]
  },
  {
   "cell_type": "code",
   "execution_count": 12,
   "id": "be81816b",
   "metadata": {
    "execution": {
     "iopub.execute_input": "2024-07-01T18:40:57.952020Z",
     "iopub.status.busy": "2024-07-01T18:40:57.951571Z",
     "iopub.status.idle": "2024-07-01T18:40:59.300686Z",
     "shell.execute_reply": "2024-07-01T18:40:59.299516Z"
    },
    "papermill": {
     "duration": 1.364631,
     "end_time": "2024-07-01T18:40:59.303929",
     "exception": false,
     "start_time": "2024-07-01T18:40:57.939298",
     "status": "completed"
    },
    "tags": []
   },
   "outputs": [
    {
     "name": "stdout",
     "output_type": "stream",
     "text": [
      "Accuracy: 94.65%\n"
     ]
    }
   ],
   "source": [
    "validate(model, val_dl)"
   ]
  }
 ],
 "metadata": {
  "kaggle": {
   "accelerator": "none",
   "dataSources": [],
   "dockerImageVersionId": 30732,
   "isGpuEnabled": false,
   "isInternetEnabled": true,
   "language": "python",
   "sourceType": "notebook"
  },
  "kernelspec": {
   "display_name": "Python 3",
   "language": "python",
   "name": "python3"
  },
  "language_info": {
   "codemirror_mode": {
    "name": "ipython",
    "version": 3
   },
   "file_extension": ".py",
   "mimetype": "text/x-python",
   "name": "python",
   "nbconvert_exporter": "python",
   "pygments_lexer": "ipython3",
   "version": "3.10.13"
  },
  "papermill": {
   "default_parameters": {},
   "duration": 260.433883,
   "end_time": "2024-07-01T18:41:00.440665",
   "environment_variables": {},
   "exception": null,
   "input_path": "__notebook__.ipynb",
   "output_path": "__notebook__.ipynb",
   "parameters": {},
   "start_time": "2024-07-01T18:36:40.006782",
   "version": "2.5.0"
  },
  "widgets": {
   "application/vnd.jupyter.widget-state+json": {
    "state": {
     "07af8dd4dfbb4e87903432b9df90c7ad": {
      "model_module": "@jupyter-widgets/controls",
      "model_module_version": "1.5.0",
      "model_name": "HBoxModel",
      "state": {
       "_dom_classes": [],
       "_model_module": "@jupyter-widgets/controls",
       "_model_module_version": "1.5.0",
       "_model_name": "HBoxModel",
       "_view_count": null,
       "_view_module": "@jupyter-widgets/controls",
       "_view_module_version": "1.5.0",
       "_view_name": "HBoxView",
       "box_style": "",
       "children": [
        "IPY_MODEL_0d2eed3d291841c89a0f893de4b53c6e",
        "IPY_MODEL_f2476b0799f748d9ba4f69a4ea6a8ceb",
        "IPY_MODEL_29c8c4fb4edb405cb013d067275dc3b3"
       ],
       "layout": "IPY_MODEL_11299279cc2a4aaca1ec0f426d8bc92c"
      }
     },
     "0d2eed3d291841c89a0f893de4b53c6e": {
      "model_module": "@jupyter-widgets/controls",
      "model_module_version": "1.5.0",
      "model_name": "HTMLModel",
      "state": {
       "_dom_classes": [],
       "_model_module": "@jupyter-widgets/controls",
       "_model_module_version": "1.5.0",
       "_model_name": "HTMLModel",
       "_view_count": null,
       "_view_module": "@jupyter-widgets/controls",
       "_view_module_version": "1.5.0",
       "_view_name": "HTMLView",
       "description": "",
       "description_tooltip": null,
       "layout": "IPY_MODEL_58412f08bd8f4666ae313cc9ef156dae",
       "placeholder": "​",
       "style": "IPY_MODEL_37299fbfdcac47e1a0c2800a5dbca107",
       "value": "100%"
      }
     },
     "11299279cc2a4aaca1ec0f426d8bc92c": {
      "model_module": "@jupyter-widgets/base",
      "model_module_version": "1.2.0",
      "model_name": "LayoutModel",
      "state": {
       "_model_module": "@jupyter-widgets/base",
       "_model_module_version": "1.2.0",
       "_model_name": "LayoutModel",
       "_view_count": null,
       "_view_module": "@jupyter-widgets/base",
       "_view_module_version": "1.2.0",
       "_view_name": "LayoutView",
       "align_content": null,
       "align_items": null,
       "align_self": null,
       "border": null,
       "bottom": null,
       "display": null,
       "flex": null,
       "flex_flow": null,
       "grid_area": null,
       "grid_auto_columns": null,
       "grid_auto_flow": null,
       "grid_auto_rows": null,
       "grid_column": null,
       "grid_gap": null,
       "grid_row": null,
       "grid_template_areas": null,
       "grid_template_columns": null,
       "grid_template_rows": null,
       "height": null,
       "justify_content": null,
       "justify_items": null,
       "left": null,
       "margin": null,
       "max_height": null,
       "max_width": null,
       "min_height": null,
       "min_width": null,
       "object_fit": null,
       "object_position": null,
       "order": null,
       "overflow": null,
       "overflow_x": null,
       "overflow_y": null,
       "padding": null,
       "right": null,
       "top": null,
       "visibility": null,
       "width": null
      }
     },
     "29c8c4fb4edb405cb013d067275dc3b3": {
      "model_module": "@jupyter-widgets/controls",
      "model_module_version": "1.5.0",
      "model_name": "HTMLModel",
      "state": {
       "_dom_classes": [],
       "_model_module": "@jupyter-widgets/controls",
       "_model_module_version": "1.5.0",
       "_model_name": "HTMLModel",
       "_view_count": null,
       "_view_module": "@jupyter-widgets/controls",
       "_view_module_version": "1.5.0",
       "_view_name": "HTMLView",
       "description": "",
       "description_tooltip": null,
       "layout": "IPY_MODEL_4d0fef39f7374d72952fd2f54127b056",
       "placeholder": "​",
       "style": "IPY_MODEL_e26405c1cde54074836e121f410ceb9c",
       "value": " 25/25 [04:05&lt;00:00,  9.75s/it]"
      }
     },
     "32a119a797654ce29a6d8981d9a74460": {
      "model_module": "@jupyter-widgets/controls",
      "model_module_version": "1.5.0",
      "model_name": "ProgressStyleModel",
      "state": {
       "_model_module": "@jupyter-widgets/controls",
       "_model_module_version": "1.5.0",
       "_model_name": "ProgressStyleModel",
       "_view_count": null,
       "_view_module": "@jupyter-widgets/base",
       "_view_module_version": "1.2.0",
       "_view_name": "StyleView",
       "bar_color": null,
       "description_width": ""
      }
     },
     "363c85d8f1b04a31b6282206890418a5": {
      "model_module": "@jupyter-widgets/base",
      "model_module_version": "1.2.0",
      "model_name": "LayoutModel",
      "state": {
       "_model_module": "@jupyter-widgets/base",
       "_model_module_version": "1.2.0",
       "_model_name": "LayoutModel",
       "_view_count": null,
       "_view_module": "@jupyter-widgets/base",
       "_view_module_version": "1.2.0",
       "_view_name": "LayoutView",
       "align_content": null,
       "align_items": null,
       "align_self": null,
       "border": null,
       "bottom": null,
       "display": null,
       "flex": null,
       "flex_flow": null,
       "grid_area": null,
       "grid_auto_columns": null,
       "grid_auto_flow": null,
       "grid_auto_rows": null,
       "grid_column": null,
       "grid_gap": null,
       "grid_row": null,
       "grid_template_areas": null,
       "grid_template_columns": null,
       "grid_template_rows": null,
       "height": null,
       "justify_content": null,
       "justify_items": null,
       "left": null,
       "margin": null,
       "max_height": null,
       "max_width": null,
       "min_height": null,
       "min_width": null,
       "object_fit": null,
       "object_position": null,
       "order": null,
       "overflow": null,
       "overflow_x": null,
       "overflow_y": null,
       "padding": null,
       "right": null,
       "top": null,
       "visibility": null,
       "width": null
      }
     },
     "37299fbfdcac47e1a0c2800a5dbca107": {
      "model_module": "@jupyter-widgets/controls",
      "model_module_version": "1.5.0",
      "model_name": "DescriptionStyleModel",
      "state": {
       "_model_module": "@jupyter-widgets/controls",
       "_model_module_version": "1.5.0",
       "_model_name": "DescriptionStyleModel",
       "_view_count": null,
       "_view_module": "@jupyter-widgets/base",
       "_view_module_version": "1.2.0",
       "_view_name": "StyleView",
       "description_width": ""
      }
     },
     "4d0fef39f7374d72952fd2f54127b056": {
      "model_module": "@jupyter-widgets/base",
      "model_module_version": "1.2.0",
      "model_name": "LayoutModel",
      "state": {
       "_model_module": "@jupyter-widgets/base",
       "_model_module_version": "1.2.0",
       "_model_name": "LayoutModel",
       "_view_count": null,
       "_view_module": "@jupyter-widgets/base",
       "_view_module_version": "1.2.0",
       "_view_name": "LayoutView",
       "align_content": null,
       "align_items": null,
       "align_self": null,
       "border": null,
       "bottom": null,
       "display": null,
       "flex": null,
       "flex_flow": null,
       "grid_area": null,
       "grid_auto_columns": null,
       "grid_auto_flow": null,
       "grid_auto_rows": null,
       "grid_column": null,
       "grid_gap": null,
       "grid_row": null,
       "grid_template_areas": null,
       "grid_template_columns": null,
       "grid_template_rows": null,
       "height": null,
       "justify_content": null,
       "justify_items": null,
       "left": null,
       "margin": null,
       "max_height": null,
       "max_width": null,
       "min_height": null,
       "min_width": null,
       "object_fit": null,
       "object_position": null,
       "order": null,
       "overflow": null,
       "overflow_x": null,
       "overflow_y": null,
       "padding": null,
       "right": null,
       "top": null,
       "visibility": null,
       "width": null
      }
     },
     "58412f08bd8f4666ae313cc9ef156dae": {
      "model_module": "@jupyter-widgets/base",
      "model_module_version": "1.2.0",
      "model_name": "LayoutModel",
      "state": {
       "_model_module": "@jupyter-widgets/base",
       "_model_module_version": "1.2.0",
       "_model_name": "LayoutModel",
       "_view_count": null,
       "_view_module": "@jupyter-widgets/base",
       "_view_module_version": "1.2.0",
       "_view_name": "LayoutView",
       "align_content": null,
       "align_items": null,
       "align_self": null,
       "border": null,
       "bottom": null,
       "display": null,
       "flex": null,
       "flex_flow": null,
       "grid_area": null,
       "grid_auto_columns": null,
       "grid_auto_flow": null,
       "grid_auto_rows": null,
       "grid_column": null,
       "grid_gap": null,
       "grid_row": null,
       "grid_template_areas": null,
       "grid_template_columns": null,
       "grid_template_rows": null,
       "height": null,
       "justify_content": null,
       "justify_items": null,
       "left": null,
       "margin": null,
       "max_height": null,
       "max_width": null,
       "min_height": null,
       "min_width": null,
       "object_fit": null,
       "object_position": null,
       "order": null,
       "overflow": null,
       "overflow_x": null,
       "overflow_y": null,
       "padding": null,
       "right": null,
       "top": null,
       "visibility": null,
       "width": null
      }
     },
     "e26405c1cde54074836e121f410ceb9c": {
      "model_module": "@jupyter-widgets/controls",
      "model_module_version": "1.5.0",
      "model_name": "DescriptionStyleModel",
      "state": {
       "_model_module": "@jupyter-widgets/controls",
       "_model_module_version": "1.5.0",
       "_model_name": "DescriptionStyleModel",
       "_view_count": null,
       "_view_module": "@jupyter-widgets/base",
       "_view_module_version": "1.2.0",
       "_view_name": "StyleView",
       "description_width": ""
      }
     },
     "f2476b0799f748d9ba4f69a4ea6a8ceb": {
      "model_module": "@jupyter-widgets/controls",
      "model_module_version": "1.5.0",
      "model_name": "FloatProgressModel",
      "state": {
       "_dom_classes": [],
       "_model_module": "@jupyter-widgets/controls",
       "_model_module_version": "1.5.0",
       "_model_name": "FloatProgressModel",
       "_view_count": null,
       "_view_module": "@jupyter-widgets/controls",
       "_view_module_version": "1.5.0",
       "_view_name": "ProgressView",
       "bar_style": "success",
       "description": "",
       "description_tooltip": null,
       "layout": "IPY_MODEL_363c85d8f1b04a31b6282206890418a5",
       "max": 25.0,
       "min": 0.0,
       "orientation": "horizontal",
       "style": "IPY_MODEL_32a119a797654ce29a6d8981d9a74460",
       "value": 25.0
      }
     }
    },
    "version_major": 2,
    "version_minor": 0
   }
  }
 },
 "nbformat": 4,
 "nbformat_minor": 5
}
